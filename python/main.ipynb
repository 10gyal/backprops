{
 "cells": [
  {
   "cell_type": "code",
   "execution_count": 72,
   "id": "0b4cb183",
   "metadata": {},
   "outputs": [],
   "source": [
    "import math\n",
    "from typing import List\n",
    "\n",
    "class Value:\n",
    "    def __init__(self, data: float, label: str, parents: List[\"Value\"] = None):\n",
    "        self.data = data\n",
    "        self.label = label\n",
    "        self.grad = 0.0\n",
    "        self.parents = parents if parents is not None else []\n",
    "        self._backward = lambda: None\n",
    "\n",
    "    def add(self, other: \"Value\") -> \"Value\":\n",
    "        data = self.data + other.data\n",
    "        out = Value(data, f\"({self.label} + {other.label})\", [self, other])\n",
    "        \n",
    "        # The derivative of z with respect to x is 1, and with respect to y is 1.\n",
    "        def _backward():\n",
    "            self.grad += out.grad  # dz/dx = 1\n",
    "            other.grad += out.grad # dz/dy = 1\n",
    "        out._backward = _backward\n",
    "        return out\n",
    "\n",
    "    def mul(self, other: \"Value\") -> \"Value\":\n",
    "        data = self.data * other.data\n",
    "        out = Value(data, f\"({self.label} * {other.label})\", [self, other])\n",
    "        \n",
    "        # The derivative of z with respect to x is y, and with respect to y is x.\n",
    "        def _backward():\n",
    "            self.grad += out.grad * other.data\n",
    "            other.grad += out.grad * self.data\n",
    "        out._backward = _backward\n",
    "        return out\n",
    "\n",
    "    def pow(self, other: \"Value\") -> \"Value\":\n",
    "        data = self.data ** other.data\n",
    "        out = Value(data, f\"({self.label} ** {other.label})\", [self, other])\n",
    "        \n",
    "        # The derivative of z with respect to x is y * (x ** (y - 1)), and with respect to y is x ** y * log(x).\n",
    "        def _backward():\n",
    "            self.grad += out.grad * other.data * self.data ** (other.data - 1)\n",
    "            other.grad += out.grad * self.data ** other.data * math.log(self.data)\n",
    "        out._backward = _backward\n",
    "        return out\n",
    "    \n",
    "    def tanh(self) -> \"Value\":\n",
    "        data = math.tanh(self.data)\n",
    "        out = Value(data, f\"tanh({self.label})\", [self])\n",
    "        \n",
    "        # The derivative of z with respect to x is 1 - z^2.\n",
    "        def _backward():\n",
    "            self.grad += out.grad * (1 - out.data * out.data)\n",
    "        out._backward = _backward\n",
    "        return out\n",
    "\n"
   ]
  },
  {
   "cell_type": "code",
   "execution_count": 73,
   "id": "67007808",
   "metadata": {},
   "outputs": [],
   "source": [
    "def numGrad(f, x):\n",
    "    eps = 1e-6\n",
    "    return (f(x+eps) - f(x-eps)) / (2 * eps)"
   ]
  },
  {
   "cell_type": "code",
   "execution_count": 74,
   "id": "5edfd3da",
   "metadata": {},
   "outputs": [],
   "source": [
    "def topo_sort(v: Value) -> List[Value]:\n",
    "    order = []\n",
    "    visited = []\n",
    "    def dfs(v: Value):\n",
    "        if v in visited:\n",
    "            return\n",
    "        visited.append(v)\n",
    "        for parent in v.parents:\n",
    "            dfs(parent)\n",
    "        order.append(v)\n",
    "    dfs(v)\n",
    "    return order\n",
    "\n",
    "def zero_grad(v: Value):\n",
    "    visited = []\n",
    "    def dfs(v: Value):\n",
    "        if v in visited:\n",
    "            return\n",
    "        visited.append(v)\n",
    "        for parent in v.parents:\n",
    "            dfs(parent)\n",
    "        v.grad = 0\n",
    "    dfs(v)\n",
    "\n",
    "def backward(v: Value):\n",
    "    order = topo_sort(v)\n",
    "    zero_grad(v)\n",
    "    v.grad = 1.0\n",
    "    for node in reversed(order):\n",
    "        node._backward()\n",
    "\n",
    "def numGrad(f, x):\n",
    "    eps = 1e-6\n",
    "    return (f(x+eps) - f(x-eps)) / (2 * eps)"
   ]
  },
  {
   "cell_type": "code",
   "execution_count": 75,
   "id": "4c0f52c6",
   "metadata": {},
   "outputs": [
    {
     "name": "stdout",
     "output_type": "stream",
     "text": [
      "x.grad (backprop)=0.000363, (numerical)=0.000363, err=0.000000\n"
     ]
    }
   ],
   "source": [
    "x = Value(1.0, \"x\")\n",
    "two = Value(2.0, \"2\")\n",
    "three = Value(3.0, \"3\")\n",
    "\n",
    "y = two.mul(x)\n",
    "z = y.add(three)\n",
    "f = z.tanh()\n",
    "\n",
    "\n",
    "\n",
    "backward(f)\n",
    "\n",
    "# Compare to numerical grad\n",
    "got = x.grad\n",
    "want = numGrad(lambda xx: math.tanh(2 * xx + 3), 1.0)\n",
    "\n",
    "err = abs(got - want)\n",
    "\n",
    "print(f\"x.grad (backprop)={got:.6f}, (numerical)={want:.6f}, err={err:.6f}\")\n"
   ]
  }
 ],
 "metadata": {
  "kernelspec": {
   "display_name": "Python 3",
   "language": "python",
   "name": "python3"
  },
  "language_info": {
   "codemirror_mode": {
    "name": "ipython",
    "version": 3
   },
   "file_extension": ".py",
   "mimetype": "text/x-python",
   "name": "python",
   "nbconvert_exporter": "python",
   "pygments_lexer": "ipython3",
   "version": "3.13.5"
  }
 },
 "nbformat": 4,
 "nbformat_minor": 5
}
